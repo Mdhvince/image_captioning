{
 "cells": [
  {
   "cell_type": "code",
   "execution_count": 1,
   "id": "01c652ff-368a-4629-8e6d-c5eecbebdd41",
   "metadata": {},
   "outputs": [],
   "source": [
    "import os\n",
    "from pathlib import Path\n",
    "import pandas as pd"
   ]
  },
  {
   "cell_type": "code",
   "execution_count": 2,
   "id": "be38fb55-66fa-4fda-b163-5958aca73d2e",
   "metadata": {},
   "outputs": [],
   "source": [
    "dataset = Path(\"/home/medhyvinceslas/Documents/programming/datasets/image_captioning_flickr30k_images\")\n",
    "annotations = dataset / \"annotations.csv\"\n",
    "image_folder = dataset / \"flickr30k_images\""
   ]
  },
  {
   "cell_type": "markdown",
   "id": "cc884e2d-8b93-48db-a1af-01e358a39c19",
   "metadata": {},
   "source": [
    "### Understand the annotation dataset"
   ]
  },
  {
   "cell_type": "code",
   "execution_count": 3,
   "id": "4dde9461-8fc8-4004-bd6d-70fb1f0e8341",
   "metadata": {},
   "outputs": [
    {
     "data": {
      "text/html": [
       "<div>\n",
       "<style scoped>\n",
       "    .dataframe tbody tr th:only-of-type {\n",
       "        vertical-align: middle;\n",
       "    }\n",
       "\n",
       "    .dataframe tbody tr th {\n",
       "        vertical-align: top;\n",
       "    }\n",
       "\n",
       "    .dataframe thead th {\n",
       "        text-align: right;\n",
       "    }\n",
       "</style>\n",
       "<table border=\"1\" class=\"dataframe\">\n",
       "  <thead>\n",
       "    <tr style=\"text-align: right;\">\n",
       "      <th></th>\n",
       "      <th>image_name</th>\n",
       "      <th>comment_number</th>\n",
       "      <th>comment</th>\n",
       "    </tr>\n",
       "  </thead>\n",
       "  <tbody>\n",
       "    <tr>\n",
       "      <th>0</th>\n",
       "      <td>1000092795.jpg</td>\n",
       "      <td>0</td>\n",
       "      <td>Two young guys with shaggy hair look at their...</td>\n",
       "    </tr>\n",
       "    <tr>\n",
       "      <th>1</th>\n",
       "      <td>1000092795.jpg</td>\n",
       "      <td>1</td>\n",
       "      <td>Two young , White males are outside near many...</td>\n",
       "    </tr>\n",
       "    <tr>\n",
       "      <th>2</th>\n",
       "      <td>1000092795.jpg</td>\n",
       "      <td>2</td>\n",
       "      <td>Two men in green shirts are standing in a yard .</td>\n",
       "    </tr>\n",
       "    <tr>\n",
       "      <th>3</th>\n",
       "      <td>1000092795.jpg</td>\n",
       "      <td>3</td>\n",
       "      <td>A man in a blue shirt standing in a garden .</td>\n",
       "    </tr>\n",
       "    <tr>\n",
       "      <th>4</th>\n",
       "      <td>1000092795.jpg</td>\n",
       "      <td>4</td>\n",
       "      <td>Two friends enjoy time spent together .</td>\n",
       "    </tr>\n",
       "    <tr>\n",
       "      <th>5</th>\n",
       "      <td>10002456.jpg</td>\n",
       "      <td>0</td>\n",
       "      <td>Several men in hard hats are operating a gian...</td>\n",
       "    </tr>\n",
       "    <tr>\n",
       "      <th>6</th>\n",
       "      <td>10002456.jpg</td>\n",
       "      <td>1</td>\n",
       "      <td>Workers look down from up above on a piece of...</td>\n",
       "    </tr>\n",
       "    <tr>\n",
       "      <th>7</th>\n",
       "      <td>10002456.jpg</td>\n",
       "      <td>2</td>\n",
       "      <td>Two men working on a machine wearing hard hats .</td>\n",
       "    </tr>\n",
       "    <tr>\n",
       "      <th>8</th>\n",
       "      <td>10002456.jpg</td>\n",
       "      <td>3</td>\n",
       "      <td>Four men on top of a tall structure .</td>\n",
       "    </tr>\n",
       "    <tr>\n",
       "      <th>9</th>\n",
       "      <td>10002456.jpg</td>\n",
       "      <td>4</td>\n",
       "      <td>Three men on a large rig .</td>\n",
       "    </tr>\n",
       "  </tbody>\n",
       "</table>\n",
       "</div>"
      ],
      "text/plain": [
       "       image_name  comment_number  \\\n",
       "0  1000092795.jpg               0   \n",
       "1  1000092795.jpg               1   \n",
       "2  1000092795.jpg               2   \n",
       "3  1000092795.jpg               3   \n",
       "4  1000092795.jpg               4   \n",
       "5    10002456.jpg               0   \n",
       "6    10002456.jpg               1   \n",
       "7    10002456.jpg               2   \n",
       "8    10002456.jpg               3   \n",
       "9    10002456.jpg               4   \n",
       "\n",
       "                                             comment  \n",
       "0   Two young guys with shaggy hair look at their...  \n",
       "1   Two young , White males are outside near many...  \n",
       "2   Two men in green shirts are standing in a yard .  \n",
       "3       A man in a blue shirt standing in a garden .  \n",
       "4            Two friends enjoy time spent together .  \n",
       "5   Several men in hard hats are operating a gian...  \n",
       "6   Workers look down from up above on a piece of...  \n",
       "7   Two men working on a machine wearing hard hats .  \n",
       "8              Four men on top of a tall structure .  \n",
       "9                         Three men on a large rig .  "
      ]
     },
     "execution_count": 3,
     "metadata": {},
     "output_type": "execute_result"
    }
   ],
   "source": [
    "df = pd.read_csv(annotations, delimiter=\"|\"); df.head(10)"
   ]
  },
  {
   "cell_type": "markdown",
   "id": "836d8474-5d8f-4bfc-8cbb-7ed64eea13fe",
   "metadata": {},
   "source": [
    "- __Each image have 5 rows in the datasets. They correspond to 5 different captions of the same image.__\n",
    "- __Each caption terminate by \".\"__"
   ]
  },
  {
   "cell_type": "markdown",
   "id": "1d15d9a3-4a7f-4208-bc76-2bc6ebb9d4c0",
   "metadata": {},
   "source": [
    "#### Check column names to see if we do not have any unecessary spaces"
   ]
  },
  {
   "cell_type": "code",
   "execution_count": 4,
   "id": "aa1c8a09-3dd8-4ddd-8127-0b8d4ba6a7d2",
   "metadata": {},
   "outputs": [
    {
     "name": "stdout",
     "output_type": "stream",
     "text": [
      "Index(['image_name', ' comment_number', ' comment'], dtype='object')\n",
      "Index(['image_name', 'comment_number', 'comment'], dtype='object')\n"
     ]
    }
   ],
   "source": [
    "print(df.columns)\n",
    "\n",
    "cols = []\n",
    "for col in df.columns:\n",
    "    cols.append(col.strip())\n",
    "df.columns = cols\n",
    "\n",
    "print(df.columns)"
   ]
  },
  {
   "cell_type": "markdown",
   "id": "ab4c4368-8a6b-452f-bc15-f1fca9e29a37",
   "metadata": {},
   "source": [
    "__Spaces has been removed__"
   ]
  },
  {
   "cell_type": "markdown",
   "id": "9b183739-f35b-4168-b1a6-beabd163c58b",
   "metadata": {
    "tags": []
   },
   "source": [
    "#### Check nulls in each columns"
   ]
  },
  {
   "cell_type": "code",
   "execution_count": 5,
   "id": "be7eb757-2ab0-42f7-98a8-457bfb28d8d5",
   "metadata": {},
   "outputs": [
    {
     "data": {
      "text/plain": [
       "image_name        0\n",
       "comment_number    0\n",
       "comment           1\n",
       "dtype: int64"
      ]
     },
     "execution_count": 5,
     "metadata": {},
     "output_type": "execute_result"
    }
   ],
   "source": [
    "df.isnull().sum()"
   ]
  },
  {
   "cell_type": "markdown",
   "id": "1ea7331c-7125-49ca-bcb2-bdf3caebb029",
   "metadata": {},
   "source": [
    "__Just one image with one missing caption, let's see which one__"
   ]
  },
  {
   "cell_type": "code",
   "execution_count": 6,
   "id": "ddc6c22b-3128-456a-98b6-0d070f9007a7",
   "metadata": {},
   "outputs": [
    {
     "data": {
      "text/html": [
       "<div>\n",
       "<style scoped>\n",
       "    .dataframe tbody tr th:only-of-type {\n",
       "        vertical-align: middle;\n",
       "    }\n",
       "\n",
       "    .dataframe tbody tr th {\n",
       "        vertical-align: top;\n",
       "    }\n",
       "\n",
       "    .dataframe thead th {\n",
       "        text-align: right;\n",
       "    }\n",
       "</style>\n",
       "<table border=\"1\" class=\"dataframe\">\n",
       "  <thead>\n",
       "    <tr style=\"text-align: right;\">\n",
       "      <th></th>\n",
       "      <th>image_name</th>\n",
       "      <th>comment_number</th>\n",
       "      <th>comment</th>\n",
       "    </tr>\n",
       "  </thead>\n",
       "  <tbody>\n",
       "    <tr>\n",
       "      <th>19999</th>\n",
       "      <td>2199200615.jpg</td>\n",
       "      <td>4   A dog runs across the grass .</td>\n",
       "      <td>NaN</td>\n",
       "    </tr>\n",
       "  </tbody>\n",
       "</table>\n",
       "</div>"
      ],
      "text/plain": [
       "           image_name                      comment_number comment\n",
       "19999  2199200615.jpg   4   A dog runs across the grass .     NaN"
      ]
     },
     "execution_count": 6,
     "metadata": {},
     "output_type": "execute_result"
    }
   ],
   "source": [
    "df[df.isnull().any(axis=1)]"
   ]
  },
  {
   "cell_type": "markdown",
   "id": "f39fe298-5f63-4540-a6b4-cc271d31fbe4",
   "metadata": {},
   "source": [
    "__This image have captions but the last one isn't formatted correctly__"
   ]
  },
  {
   "cell_type": "code",
   "execution_count": 7,
   "id": "6e015993-1522-4e70-a03e-3734d0c25f18",
   "metadata": {},
   "outputs": [
    {
     "data": {
      "text/html": [
       "<div>\n",
       "<style scoped>\n",
       "    .dataframe tbody tr th:only-of-type {\n",
       "        vertical-align: middle;\n",
       "    }\n",
       "\n",
       "    .dataframe tbody tr th {\n",
       "        vertical-align: top;\n",
       "    }\n",
       "\n",
       "    .dataframe thead th {\n",
       "        text-align: right;\n",
       "    }\n",
       "</style>\n",
       "<table border=\"1\" class=\"dataframe\">\n",
       "  <thead>\n",
       "    <tr style=\"text-align: right;\">\n",
       "      <th></th>\n",
       "      <th>image_name</th>\n",
       "      <th>comment_number</th>\n",
       "      <th>comment</th>\n",
       "    </tr>\n",
       "  </thead>\n",
       "  <tbody>\n",
       "    <tr>\n",
       "      <th>19995</th>\n",
       "      <td>2199200615.jpg</td>\n",
       "      <td>0</td>\n",
       "      <td>A dog running on green grass with its mouth o...</td>\n",
       "    </tr>\n",
       "    <tr>\n",
       "      <th>19996</th>\n",
       "      <td>2199200615.jpg</td>\n",
       "      <td>1</td>\n",
       "      <td>a white dog is running with its mouth open ac...</td>\n",
       "    </tr>\n",
       "    <tr>\n",
       "      <th>19997</th>\n",
       "      <td>2199200615.jpg</td>\n",
       "      <td>2</td>\n",
       "      <td>A white , black , and brown dog runs in a fie...</td>\n",
       "    </tr>\n",
       "    <tr>\n",
       "      <th>19998</th>\n",
       "      <td>2199200615.jpg</td>\n",
       "      <td>3</td>\n",
       "      <td>A dog runs across the grassy field .</td>\n",
       "    </tr>\n",
       "    <tr>\n",
       "      <th>19999</th>\n",
       "      <td>2199200615.jpg</td>\n",
       "      <td>4   A dog runs across the grass .</td>\n",
       "      <td>NaN</td>\n",
       "    </tr>\n",
       "  </tbody>\n",
       "</table>\n",
       "</div>"
      ],
      "text/plain": [
       "           image_name                      comment_number  \\\n",
       "19995  2199200615.jpg                                   0   \n",
       "19996  2199200615.jpg                                   1   \n",
       "19997  2199200615.jpg                                   2   \n",
       "19998  2199200615.jpg                                   3   \n",
       "19999  2199200615.jpg   4   A dog runs across the grass .   \n",
       "\n",
       "                                                 comment  \n",
       "19995   A dog running on green grass with its mouth o...  \n",
       "19996   a white dog is running with its mouth open ac...  \n",
       "19997   A white , black , and brown dog runs in a fie...  \n",
       "19998               A dog runs across the grassy field .  \n",
       "19999                                                NaN  "
      ]
     },
     "execution_count": 7,
     "metadata": {},
     "output_type": "execute_result"
    }
   ],
   "source": [
    "df[df.image_name == \"2199200615.jpg\"]"
   ]
  },
  {
   "cell_type": "markdown",
   "id": "45adfffa-1ec4-4eb4-9bd2-a4f7ba7196ec",
   "metadata": {},
   "source": [
    "__This confirm my thought. we just need to reformat it__"
   ]
  },
  {
   "cell_type": "code",
   "execution_count": 8,
   "id": "43672c8c-0f76-47c2-a82b-2fd03a021af3",
   "metadata": {},
   "outputs": [
    {
     "data": {
      "text/html": [
       "<div>\n",
       "<style scoped>\n",
       "    .dataframe tbody tr th:only-of-type {\n",
       "        vertical-align: middle;\n",
       "    }\n",
       "\n",
       "    .dataframe tbody tr th {\n",
       "        vertical-align: top;\n",
       "    }\n",
       "\n",
       "    .dataframe thead th {\n",
       "        text-align: right;\n",
       "    }\n",
       "</style>\n",
       "<table border=\"1\" class=\"dataframe\">\n",
       "  <thead>\n",
       "    <tr style=\"text-align: right;\">\n",
       "      <th></th>\n",
       "      <th>image_name</th>\n",
       "      <th>comment_number</th>\n",
       "      <th>comment</th>\n",
       "    </tr>\n",
       "  </thead>\n",
       "  <tbody>\n",
       "    <tr>\n",
       "      <th>19995</th>\n",
       "      <td>2199200615.jpg</td>\n",
       "      <td>0</td>\n",
       "      <td>A dog running on green grass with its mouth o...</td>\n",
       "    </tr>\n",
       "    <tr>\n",
       "      <th>19996</th>\n",
       "      <td>2199200615.jpg</td>\n",
       "      <td>1</td>\n",
       "      <td>a white dog is running with its mouth open ac...</td>\n",
       "    </tr>\n",
       "    <tr>\n",
       "      <th>19997</th>\n",
       "      <td>2199200615.jpg</td>\n",
       "      <td>2</td>\n",
       "      <td>A white , black , and brown dog runs in a fie...</td>\n",
       "    </tr>\n",
       "    <tr>\n",
       "      <th>19998</th>\n",
       "      <td>2199200615.jpg</td>\n",
       "      <td>3</td>\n",
       "      <td>A dog runs across the grassy field .</td>\n",
       "    </tr>\n",
       "    <tr>\n",
       "      <th>19999</th>\n",
       "      <td>2199200615.jpg</td>\n",
       "      <td>4   A dog runs across the grass .</td>\n",
       "      <td>4   A dog runs across the grass .</td>\n",
       "    </tr>\n",
       "  </tbody>\n",
       "</table>\n",
       "</div>"
      ],
      "text/plain": [
       "           image_name                      comment_number  \\\n",
       "19995  2199200615.jpg                                   0   \n",
       "19996  2199200615.jpg                                   1   \n",
       "19997  2199200615.jpg                                   2   \n",
       "19998  2199200615.jpg                                   3   \n",
       "19999  2199200615.jpg   4   A dog runs across the grass .   \n",
       "\n",
       "                                                 comment  \n",
       "19995   A dog running on green grass with its mouth o...  \n",
       "19996   a white dog is running with its mouth open ac...  \n",
       "19997   A white , black , and brown dog runs in a fie...  \n",
       "19998               A dog runs across the grassy field .  \n",
       "19999                  4   A dog runs across the grass .  "
      ]
     },
     "execution_count": 8,
     "metadata": {},
     "output_type": "execute_result"
    }
   ],
   "source": [
    "df.iloc[19999, :].comment = df.iloc[19999, :].comment_number\n",
    "df[df.image_name == \"2199200615.jpg\"]"
   ]
  },
  {
   "cell_type": "code",
   "execution_count": 9,
   "id": "2e513b86-5daa-4323-8123-abb12dfa3d72",
   "metadata": {},
   "outputs": [
    {
     "data": {
      "text/plain": [
       "['', '4', '', '', 'A', 'dog', 'runs', 'across', 'the', 'grass', '.']"
      ]
     },
     "execution_count": 9,
     "metadata": {},
     "output_type": "execute_result"
    }
   ],
   "source": [
    "df.iloc[19999, :].comment_number.split(\" \")"
   ]
  },
  {
   "cell_type": "markdown",
   "id": "3c42ae13-bf38-4ceb-92a2-6563610cd06e",
   "metadata": {},
   "source": [
    "___Let's remove leading and ending spaces also in column values___"
   ]
  },
  {
   "cell_type": "code",
   "execution_count": 10,
   "id": "14d1deb6-140d-4569-9387-eebfa1a9f4fb",
   "metadata": {},
   "outputs": [],
   "source": [
    "df.image_name = df.image_name.apply(lambda x: x.strip())\n",
    "df.comment_number = df.comment_number.apply(lambda x: x.strip())\n",
    "df.comment = df.comment.apply(lambda x: x.strip())"
   ]
  },
  {
   "cell_type": "code",
   "execution_count": 11,
   "id": "07e323fe-5aab-4dd0-a827-b8f0ffc5535b",
   "metadata": {},
   "outputs": [
    {
     "data": {
      "text/plain": [
       "'4'"
      ]
     },
     "execution_count": 11,
     "metadata": {},
     "output_type": "execute_result"
    }
   ],
   "source": [
    "df.iloc[19999, :].comment_number.split(\" \")[0]"
   ]
  },
  {
   "cell_type": "code",
   "execution_count": 13,
   "id": "c7f362d2-fae6-40b6-ba7f-fcf05e81071b",
   "metadata": {},
   "outputs": [
    {
     "data": {
      "text/html": [
       "<div>\n",
       "<style scoped>\n",
       "    .dataframe tbody tr th:only-of-type {\n",
       "        vertical-align: middle;\n",
       "    }\n",
       "\n",
       "    .dataframe tbody tr th {\n",
       "        vertical-align: top;\n",
       "    }\n",
       "\n",
       "    .dataframe thead th {\n",
       "        text-align: right;\n",
       "    }\n",
       "</style>\n",
       "<table border=\"1\" class=\"dataframe\">\n",
       "  <thead>\n",
       "    <tr style=\"text-align: right;\">\n",
       "      <th></th>\n",
       "      <th>image_name</th>\n",
       "      <th>comment_number</th>\n",
       "      <th>comment</th>\n",
       "    </tr>\n",
       "  </thead>\n",
       "  <tbody>\n",
       "    <tr>\n",
       "      <th>19995</th>\n",
       "      <td>2199200615.jpg</td>\n",
       "      <td>0</td>\n",
       "      <td>A dog running on green grass with its mouth op...</td>\n",
       "    </tr>\n",
       "    <tr>\n",
       "      <th>19996</th>\n",
       "      <td>2199200615.jpg</td>\n",
       "      <td>1</td>\n",
       "      <td>a white dog is running with its mouth open acr...</td>\n",
       "    </tr>\n",
       "    <tr>\n",
       "      <th>19997</th>\n",
       "      <td>2199200615.jpg</td>\n",
       "      <td>2</td>\n",
       "      <td>A white , black , and brown dog runs in a field .</td>\n",
       "    </tr>\n",
       "    <tr>\n",
       "      <th>19998</th>\n",
       "      <td>2199200615.jpg</td>\n",
       "      <td>3</td>\n",
       "      <td>A dog runs across the grassy field .</td>\n",
       "    </tr>\n",
       "    <tr>\n",
       "      <th>19999</th>\n",
       "      <td>2199200615.jpg</td>\n",
       "      <td>4</td>\n",
       "      <td>4   A dog runs across the grass .</td>\n",
       "    </tr>\n",
       "  </tbody>\n",
       "</table>\n",
       "</div>"
      ],
      "text/plain": [
       "           image_name comment_number  \\\n",
       "19995  2199200615.jpg              0   \n",
       "19996  2199200615.jpg              1   \n",
       "19997  2199200615.jpg              2   \n",
       "19998  2199200615.jpg              3   \n",
       "19999  2199200615.jpg              4   \n",
       "\n",
       "                                                 comment  \n",
       "19995  A dog running on green grass with its mouth op...  \n",
       "19996  a white dog is running with its mouth open acr...  \n",
       "19997  A white , black , and brown dog runs in a field .  \n",
       "19998               A dog runs across the grassy field .  \n",
       "19999                  4   A dog runs across the grass .  "
      ]
     },
     "execution_count": 13,
     "metadata": {},
     "output_type": "execute_result"
    }
   ],
   "source": [
    "df.iloc[19999, :].comment_number = int(df.iloc[19999, :].comment_number.split(\" \")[0])\n",
    "df[df.image_name == \"2199200615.jpg\"]"
   ]
  },
  {
   "cell_type": "code",
   "execution_count": 14,
   "id": "e2d4adfa-a75d-4aa0-a553-984754d4aa2c",
   "metadata": {},
   "outputs": [
    {
     "data": {
      "text/html": [
       "<div>\n",
       "<style scoped>\n",
       "    .dataframe tbody tr th:only-of-type {\n",
       "        vertical-align: middle;\n",
       "    }\n",
       "\n",
       "    .dataframe tbody tr th {\n",
       "        vertical-align: top;\n",
       "    }\n",
       "\n",
       "    .dataframe thead th {\n",
       "        text-align: right;\n",
       "    }\n",
       "</style>\n",
       "<table border=\"1\" class=\"dataframe\">\n",
       "  <thead>\n",
       "    <tr style=\"text-align: right;\">\n",
       "      <th></th>\n",
       "      <th>image_name</th>\n",
       "      <th>comment_number</th>\n",
       "      <th>comment</th>\n",
       "    </tr>\n",
       "  </thead>\n",
       "  <tbody>\n",
       "    <tr>\n",
       "      <th>19995</th>\n",
       "      <td>2199200615.jpg</td>\n",
       "      <td>0</td>\n",
       "      <td>A dog running on green grass with its mouth op...</td>\n",
       "    </tr>\n",
       "    <tr>\n",
       "      <th>19996</th>\n",
       "      <td>2199200615.jpg</td>\n",
       "      <td>1</td>\n",
       "      <td>a white dog is running with its mouth open acr...</td>\n",
       "    </tr>\n",
       "    <tr>\n",
       "      <th>19997</th>\n",
       "      <td>2199200615.jpg</td>\n",
       "      <td>2</td>\n",
       "      <td>A white , black , and brown dog runs in a field .</td>\n",
       "    </tr>\n",
       "    <tr>\n",
       "      <th>19998</th>\n",
       "      <td>2199200615.jpg</td>\n",
       "      <td>3</td>\n",
       "      <td>A dog runs across the grassy field .</td>\n",
       "    </tr>\n",
       "    <tr>\n",
       "      <th>19999</th>\n",
       "      <td>2199200615.jpg</td>\n",
       "      <td>4</td>\n",
       "      <td>A dog runs across the grass .</td>\n",
       "    </tr>\n",
       "  </tbody>\n",
       "</table>\n",
       "</div>"
      ],
      "text/plain": [
       "           image_name comment_number  \\\n",
       "19995  2199200615.jpg              0   \n",
       "19996  2199200615.jpg              1   \n",
       "19997  2199200615.jpg              2   \n",
       "19998  2199200615.jpg              3   \n",
       "19999  2199200615.jpg              4   \n",
       "\n",
       "                                                 comment  \n",
       "19995  A dog running on green grass with its mouth op...  \n",
       "19996  a white dog is running with its mouth open acr...  \n",
       "19997  A white , black , and brown dog runs in a field .  \n",
       "19998               A dog runs across the grassy field .  \n",
       "19999                      A dog runs across the grass .  "
      ]
     },
     "execution_count": 14,
     "metadata": {},
     "output_type": "execute_result"
    }
   ],
   "source": [
    "df.iloc[19999, :].comment = \" \".join(df.iloc[19999, :].comment.split(\" \")[1:]).strip()\n",
    "df[df.image_name == \"2199200615.jpg\"]"
   ]
  },
  {
   "cell_type": "code",
   "execution_count": 15,
   "id": "3b903a0d-2f03-459e-b8f1-bab7bc7a9f1e",
   "metadata": {},
   "outputs": [
    {
     "data": {
      "text/plain": [
       "image_name        0\n",
       "comment_number    0\n",
       "comment           0\n",
       "dtype: int64"
      ]
     },
     "execution_count": 15,
     "metadata": {},
     "output_type": "execute_result"
    }
   ],
   "source": [
    "df.isnull().sum()"
   ]
  },
  {
   "cell_type": "markdown",
   "id": "2c93c845-3dcd-4db5-a95a-eee2f4c54eea",
   "metadata": {},
   "source": [
    "##### Dataset is clean at this point."
   ]
  },
  {
   "cell_type": "markdown",
   "id": "a15e5eae-e458-42b5-a0c5-4c90e65f3262",
   "metadata": {},
   "source": [
    "#### Number of annotated images VS number of images in the image folder"
   ]
  },
  {
   "cell_type": "code",
   "execution_count": 16,
   "id": "843d97c6-3351-4590-af34-9e15a534888f",
   "metadata": {},
   "outputs": [
    {
     "data": {
      "text/plain": [
       "(31783, 31784)"
      ]
     },
     "execution_count": 16,
     "metadata": {},
     "output_type": "execute_result"
    }
   ],
   "source": [
    "len(set(df.image_name)), len(os.listdir(image_folder))"
   ]
  },
  {
   "cell_type": "markdown",
   "id": "6ad4638f-2d08-4f99-a946-1e523803b4a0",
   "metadata": {},
   "source": [
    "__It looks like 1 image from the image folder is not present in the annotation file__"
   ]
  },
  {
   "cell_type": "code",
   "execution_count": 17,
   "id": "d4704d3d-da24-45d7-8f7b-d44ef5d37251",
   "metadata": {},
   "outputs": [
    {
     "name": "stdout",
     "output_type": "stream",
     "text": [
      "results.csv\n"
     ]
    }
   ],
   "source": [
    "for i in os.listdir(image_folder):\n",
    "    if i.endswith(\".jpg\"):\n",
    "        pass\n",
    "    else:\n",
    "        print(i)"
   ]
  },
  {
   "cell_type": "markdown",
   "id": "db32a9b0-978c-4aa5-8727-77640de25055",
   "metadata": {},
   "source": [
    "__it is just a csv file, so I will just need to be careful when loading the data, to only take in an image *.jpg__"
   ]
  },
  {
   "cell_type": "markdown",
   "id": "820e6e99-7bb2-40f3-bec3-0ed6f991c0cf",
   "metadata": {},
   "source": [
    "### Reformating the annotation file from (multiple rows per image to 1 row per image)"
   ]
  },
  {
   "cell_type": "code",
   "execution_count": 18,
   "id": "3f262f15-15e3-45bc-ad27-3d37946dc59d",
   "metadata": {},
   "outputs": [
    {
     "data": {
      "text/html": [
       "<div>\n",
       "<style scoped>\n",
       "    .dataframe tbody tr th:only-of-type {\n",
       "        vertical-align: middle;\n",
       "    }\n",
       "\n",
       "    .dataframe tbody tr th {\n",
       "        vertical-align: top;\n",
       "    }\n",
       "\n",
       "    .dataframe thead th {\n",
       "        text-align: right;\n",
       "    }\n",
       "</style>\n",
       "<table border=\"1\" class=\"dataframe\">\n",
       "  <thead>\n",
       "    <tr style=\"text-align: right;\">\n",
       "      <th></th>\n",
       "      <th>image_name</th>\n",
       "      <th>comment</th>\n",
       "    </tr>\n",
       "  </thead>\n",
       "  <tbody>\n",
       "    <tr>\n",
       "      <th>0</th>\n",
       "      <td>1000092795.jpg</td>\n",
       "      <td>Two young guys with shaggy hair look at their ...</td>\n",
       "    </tr>\n",
       "    <tr>\n",
       "      <th>1</th>\n",
       "      <td>1000092795.jpg</td>\n",
       "      <td>Two young , White males are outside near many ...</td>\n",
       "    </tr>\n",
       "    <tr>\n",
       "      <th>2</th>\n",
       "      <td>1000092795.jpg</td>\n",
       "      <td>Two men in green shirts are standing in a yard .</td>\n",
       "    </tr>\n",
       "    <tr>\n",
       "      <th>3</th>\n",
       "      <td>1000092795.jpg</td>\n",
       "      <td>A man in a blue shirt standing in a garden .</td>\n",
       "    </tr>\n",
       "    <tr>\n",
       "      <th>4</th>\n",
       "      <td>1000092795.jpg</td>\n",
       "      <td>Two friends enjoy time spent together .</td>\n",
       "    </tr>\n",
       "    <tr>\n",
       "      <th>5</th>\n",
       "      <td>10002456.jpg</td>\n",
       "      <td>Several men in hard hats are operating a giant...</td>\n",
       "    </tr>\n",
       "    <tr>\n",
       "      <th>6</th>\n",
       "      <td>10002456.jpg</td>\n",
       "      <td>Workers look down from up above on a piece of ...</td>\n",
       "    </tr>\n",
       "    <tr>\n",
       "      <th>7</th>\n",
       "      <td>10002456.jpg</td>\n",
       "      <td>Two men working on a machine wearing hard hats .</td>\n",
       "    </tr>\n",
       "    <tr>\n",
       "      <th>8</th>\n",
       "      <td>10002456.jpg</td>\n",
       "      <td>Four men on top of a tall structure .</td>\n",
       "    </tr>\n",
       "    <tr>\n",
       "      <th>9</th>\n",
       "      <td>10002456.jpg</td>\n",
       "      <td>Three men on a large rig .</td>\n",
       "    </tr>\n",
       "  </tbody>\n",
       "</table>\n",
       "</div>"
      ],
      "text/plain": [
       "       image_name                                            comment\n",
       "0  1000092795.jpg  Two young guys with shaggy hair look at their ...\n",
       "1  1000092795.jpg  Two young , White males are outside near many ...\n",
       "2  1000092795.jpg   Two men in green shirts are standing in a yard .\n",
       "3  1000092795.jpg       A man in a blue shirt standing in a garden .\n",
       "4  1000092795.jpg            Two friends enjoy time spent together .\n",
       "5    10002456.jpg  Several men in hard hats are operating a giant...\n",
       "6    10002456.jpg  Workers look down from up above on a piece of ...\n",
       "7    10002456.jpg   Two men working on a machine wearing hard hats .\n",
       "8    10002456.jpg              Four men on top of a tall structure .\n",
       "9    10002456.jpg                         Three men on a large rig ."
      ]
     },
     "execution_count": 18,
     "metadata": {},
     "output_type": "execute_result"
    }
   ],
   "source": [
    "df = df[[\"image_name\", \"comment\"]]\n",
    "df.head(10)"
   ]
  },
  {
   "cell_type": "code",
   "execution_count": 19,
   "id": "ba7b0292-aeee-4c32-ba26-769a95abcb7e",
   "metadata": {},
   "outputs": [],
   "source": [
    "df = df.groupby(\"image_name\")[\"comment\"].apply(list)"
   ]
  },
  {
   "cell_type": "code",
   "execution_count": 20,
   "id": "be9e62c5-7864-4b4a-a5ca-09e8bdf5aa47",
   "metadata": {},
   "outputs": [
    {
     "data": {
      "text/html": [
       "<div>\n",
       "<style scoped>\n",
       "    .dataframe tbody tr th:only-of-type {\n",
       "        vertical-align: middle;\n",
       "    }\n",
       "\n",
       "    .dataframe tbody tr th {\n",
       "        vertical-align: top;\n",
       "    }\n",
       "\n",
       "    .dataframe thead th {\n",
       "        text-align: right;\n",
       "    }\n",
       "</style>\n",
       "<table border=\"1\" class=\"dataframe\">\n",
       "  <thead>\n",
       "    <tr style=\"text-align: right;\">\n",
       "      <th></th>\n",
       "      <th>image_name</th>\n",
       "      <th>comment</th>\n",
       "    </tr>\n",
       "  </thead>\n",
       "  <tbody>\n",
       "    <tr>\n",
       "      <th>0</th>\n",
       "      <td>1000092795.jpg</td>\n",
       "      <td>[Two young guys with shaggy hair look at their...</td>\n",
       "    </tr>\n",
       "    <tr>\n",
       "      <th>1</th>\n",
       "      <td>10002456.jpg</td>\n",
       "      <td>[Several men in hard hats are operating a gian...</td>\n",
       "    </tr>\n",
       "    <tr>\n",
       "      <th>2</th>\n",
       "      <td>1000268201.jpg</td>\n",
       "      <td>[A child in a pink dress is climbing up a set ...</td>\n",
       "    </tr>\n",
       "    <tr>\n",
       "      <th>3</th>\n",
       "      <td>1000344755.jpg</td>\n",
       "      <td>[Someone in a blue shirt and hat is standing o...</td>\n",
       "    </tr>\n",
       "    <tr>\n",
       "      <th>4</th>\n",
       "      <td>1000366164.jpg</td>\n",
       "      <td>[Two men , one in a gray shirt , one in a blac...</td>\n",
       "    </tr>\n",
       "    <tr>\n",
       "      <th>5</th>\n",
       "      <td>1000523639.jpg</td>\n",
       "      <td>[Two people in the photo are playing the guita...</td>\n",
       "    </tr>\n",
       "    <tr>\n",
       "      <th>6</th>\n",
       "      <td>1000919630.jpg</td>\n",
       "      <td>[A man sits in a chair while holding a large s...</td>\n",
       "    </tr>\n",
       "    <tr>\n",
       "      <th>7</th>\n",
       "      <td>10010052.jpg</td>\n",
       "      <td>[A girl is on rollerskates talking on her cell...</td>\n",
       "    </tr>\n",
       "    <tr>\n",
       "      <th>8</th>\n",
       "      <td>1001465944.jpg</td>\n",
       "      <td>[An asian man wearing a black suit stands near...</td>\n",
       "    </tr>\n",
       "    <tr>\n",
       "      <th>9</th>\n",
       "      <td>1001545525.jpg</td>\n",
       "      <td>[Two men in Germany jumping over a rail at the...</td>\n",
       "    </tr>\n",
       "  </tbody>\n",
       "</table>\n",
       "</div>"
      ],
      "text/plain": [
       "       image_name                                            comment\n",
       "0  1000092795.jpg  [Two young guys with shaggy hair look at their...\n",
       "1    10002456.jpg  [Several men in hard hats are operating a gian...\n",
       "2  1000268201.jpg  [A child in a pink dress is climbing up a set ...\n",
       "3  1000344755.jpg  [Someone in a blue shirt and hat is standing o...\n",
       "4  1000366164.jpg  [Two men , one in a gray shirt , one in a blac...\n",
       "5  1000523639.jpg  [Two people in the photo are playing the guita...\n",
       "6  1000919630.jpg  [A man sits in a chair while holding a large s...\n",
       "7    10010052.jpg  [A girl is on rollerskates talking on her cell...\n",
       "8  1001465944.jpg  [An asian man wearing a black suit stands near...\n",
       "9  1001545525.jpg  [Two men in Germany jumping over a rail at the..."
      ]
     },
     "execution_count": 20,
     "metadata": {},
     "output_type": "execute_result"
    }
   ],
   "source": [
    "df = pd.DataFrame(df).reset_index()\n",
    "df.head(10)"
   ]
  },
  {
   "cell_type": "markdown",
   "id": "66566f27-cf80-4629-a426-251409dc3058",
   "metadata": {},
   "source": [
    "### Save annotations_cleaned"
   ]
  },
  {
   "cell_type": "code",
   "execution_count": 21,
   "id": "8d7e308b-bd09-4703-ab44-0c280fe41d13",
   "metadata": {},
   "outputs": [],
   "source": [
    "df.to_csv(annotations.parent / \"annotations_cleaned.csv\", index=False)"
   ]
  }
 ],
 "metadata": {
  "kernelspec": {
   "display_name": "Python 3 (ipykernel)",
   "language": "python",
   "name": "python3"
  },
  "language_info": {
   "codemirror_mode": {
    "name": "ipython",
    "version": 3
   },
   "file_extension": ".py",
   "mimetype": "text/x-python",
   "name": "python",
   "nbconvert_exporter": "python",
   "pygments_lexer": "ipython3",
   "version": "3.10.6"
  }
 },
 "nbformat": 4,
 "nbformat_minor": 5
}
